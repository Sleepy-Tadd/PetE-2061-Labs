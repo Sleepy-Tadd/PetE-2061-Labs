{
  "cells": [
    {
      "cell_type": "markdown",
      "metadata": {
        "id": "u1YDPNtbdHDj"
      },
      "source": [
        "\n",
        " #  Hello World Program\n",
        "\n",
        "## PETE 2061 Lab 0 Workbook\n",
        "\n",
        "## THIS LAB IS DUE BEFORE YOU LEAVE THE ROOM!!\n",
        "\n",
        "<a id='top'></a>"
      ]
    },
    {
      "cell_type": "code",
      "execution_count": null,
      "metadata": {
        "id": "jnWf-H-GhvGi"
      },
      "outputs": [],
      "source": []
    },
    {
      "cell_type": "markdown",
      "metadata": {
        "id": "37STNCrmhvGj"
      },
      "source": [
        "## Save this workbook as \"Lab0_WB_YourFirstName_YourLastName.ipynb\"\n",
        "** 50 points will be deducted if this is not done.**"
      ]
    },
    {
      "cell_type": "markdown",
      "metadata": {
        "id": "krWd44XodHDp"
      },
      "source": [
        "<a id='variables'></a>\n",
        "## Write a Python code to display \"Hello, YourName!\"\n",
        "\n",
        "** 10 points will be deducted if you don't replace YourName with your name and 50 points will be deducted if you do not attempt this question.**"
      ]
    },
    {
      "cell_type": "code",
      "execution_count": 1,
      "metadata": {
        "id": "Ar7jhqz8hvGj",
        "colab": {
          "base_uri": "https://localhost:8080/"
        },
        "outputId": "5f94c886-d911-4e8e-bdb7-912f316c0f17"
      },
      "outputs": [
        {
          "output_type": "stream",
          "name": "stdout",
          "text": [
            "Hello, Tadd!\n"
          ]
        }
      ],
      "source": [
        "print(\"Hello, Tadd!\")"
      ]
    },
    {
      "cell_type": "code",
      "execution_count": null,
      "metadata": {
        "id": "pbx5y6xthvGj"
      },
      "outputs": [],
      "source": []
    }
  ],
  "metadata": {
    "colab": {
      "provenance": []
    },
    "kernelspec": {
      "display_name": "Python 3 (ipykernel)",
      "language": "python",
      "name": "python3"
    },
    "language_info": {
      "codemirror_mode": {
        "name": "ipython",
        "version": 3
      },
      "file_extension": ".py",
      "mimetype": "text/x-python",
      "name": "python",
      "nbconvert_exporter": "python",
      "pygments_lexer": "ipython3",
      "version": "3.9.12"
    }
  },
  "nbformat": 4,
  "nbformat_minor": 0
}