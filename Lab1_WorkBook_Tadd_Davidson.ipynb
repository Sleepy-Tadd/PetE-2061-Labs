{
  "cells": [
    {
      "cell_type": "markdown",
      "metadata": {
        "id": "u1YDPNtbdHDj"
      },
      "source": [
        "\n",
        " #  Introduction to Python Programming\n",
        "\n",
        "## PETE 2061 Lab 1 Workbook\n",
        "\n",
        "## THIS LAB IS DUE BEFORE YOU LEAVE THE ROOM!!\n",
        "\n",
        "<a id='top'></a>"
      ]
    },
    {
      "cell_type": "markdown",
      "metadata": {
        "id": "krWd44XodHDp"
      },
      "source": [
        "<a id='variables'></a>\n",
        "## Volumetric Reserves Estimation\n",
        "The Stock-tank Oil Initially In Place (STOIIP) is the amount of oil that is stored in an oil reservoir. Assuming that the pore spaces in the reservoir are filled with water and oil only, the STOIIP can be estimated using the formula:<br><br>\n",
        "$STOIIP = 7758 Ah\\phi(1-S_{wi})/B_{oi}$ <br><br>\n",
        "where $A$ is the area of the reservoir in acres, <br>\n",
        "$h$ is the reservoir thickness in feet (ft), <br>\n",
        "$S_{wi}$ is the initial water saturation of the reservoir. It is the ratio of the volume of water initially in the reservoir to the total pore volume in the reservoir. It can either be expressed as a fraction or percentage. <br>\n",
        "$B_{oi}$ is the initial oil formation volume factor. It is the ratio of the volume of oil at reservoir conditions (measured in units of reservoir barrels, rb) to the volume of oil at standard conditions (measured in units of stock tank barrels, stb). This means that the unit of $B_{oi}$ is $\\frac{rb}{stb}$ <br>\n",
        "$\\phi$ is the porosity of the reservoir. It is the ratio of the pore volume to the bulk volume, and can be expressed as a fraction or in percentage. <br>\n",
        "7758 is the conversion factor from acre-ft to barrels (bbl or rb) <br><br>\n",
        "NOTE: You should be able to show that the unit of STOIIP from this equation is stb. <br>\n",
        "\n",
        "1. Given the values below, write a Python code that calculates and stores the STOIIP into a variable named \"stoiip\", and then prints the STOIIP value. <br>\n",
        "A = 100  $\\hspace{22pt}$ # in acres (store this value in a variable called \"area\")<br>\n",
        "h = 50 $\\hspace{27pt}$ # in feet (store this value in a variable called \"h\") <br>\n",
        "$\\phi$ = 0.25 $\\hspace{19pt}$ # fraction (store this value in a variable called \"poro\")<br>\n",
        "$S_{wi}$ = 0.3 $\\hspace{15pt}$ # fraction (store this value in a variable called \"s_wi\")<br>\n",
        "$B_{oi}$ = 1.1 $\\hspace{19pt}$ # rb/stb (store this value in a variable called \"b_oi\")<br>\n",
        "\n",
        "** 2 points will be deducted if answer is wrong, 3 points will be deducted if variables are not used in the calculation of STOIIP, 10 points will be deducted if question is not attempted**"
      ]
    },
    {
      "cell_type": "code",
      "execution_count": 15,
      "metadata": {
        "id": "2shRn31U6Q-q",
        "colab": {
          "base_uri": "https://localhost:8080/"
        },
        "outputId": "f84a88f5-7ca7-4487-805a-fa3c522cd256"
      },
      "outputs": [
        {
          "output_type": "stream",
          "name": "stdout",
          "text": [
            "the STOIIP is: 6171136.363636363 bbl\n"
          ]
        }
      ],
      "source": [
        "area = 100\n",
        "h = 50\n",
        "poro = .25\n",
        "s_wi = .3\n",
        "b_oi = 1.1\n",
        "\n",
        "STOIIP = ((7758*area*h*poro*(1-s_wi))/b_oi)\n",
        "\n",
        "print(f\"the STOIIP is: {STOIIP} bbl\")"
      ]
    },
    {
      "cell_type": "markdown",
      "metadata": {
        "id": "iEkvPhIX6Q-r"
      },
      "source": [
        "2. The bulk volume of the reservoir (BV or $V_b$) in units of acre-ft is given as: <br>\n",
        "BV = Ah <br>\n",
        "Write a Python code that computes and stores the BV in a variable called \"bv_acreft\". Print this variable <br>\n",
        "** 1 point will be deducted if answer is wrong, 2 points will be deducted if variables are not used in the calculation, 2 points will be deducted if the variable is not printed, and 10 points will be deducted if question is not attempted**"
      ]
    },
    {
      "cell_type": "code",
      "execution_count": 16,
      "metadata": {
        "id": "W6_KY7r86Q-r",
        "colab": {
          "base_uri": "https://localhost:8080/"
        },
        "outputId": "3562b2b4-4abf-445c-bde6-7eb11413d290"
      },
      "outputs": [
        {
          "output_type": "stream",
          "name": "stdout",
          "text": [
            "the bulk volume is: 5000 acre-ft\n"
          ]
        }
      ],
      "source": [
        "bv_acreft = area*h\n",
        "print(f\"the bulk volume is: {bv_acreft} acre-ft\")"
      ]
    },
    {
      "cell_type": "markdown",
      "metadata": {
        "id": "UPEdzgiE6Q-r"
      },
      "source": [
        "3. Write a Python code to convert the BV from (2) above to barrels (rb) using the given conversion factor, and store this in a variable called \"bv_rb\". Print this variable <br>\n",
        "** 1 point will be deducted if answer is wrong, 2 points will be deducted if variables are not used in the calculation, 2 points will be deducted if the variable is not printed, and 10 points will be deducted if question is not attempted**"
      ]
    },
    {
      "cell_type": "code",
      "execution_count": 31,
      "metadata": {
        "id": "AnPBPvUn6Q-r",
        "colab": {
          "base_uri": "https://localhost:8080/"
        },
        "outputId": "bed28e4c-30ad-430b-9500-f78bdc5ce8c7"
      },
      "outputs": [
        {
          "output_type": "stream",
          "name": "stdout",
          "text": [
            "the amount in barrels is: 38790000 bbl\n"
          ]
        }
      ],
      "source": [
        "bv_rb = bv_acreft*7758\n",
        "print(f\"the amount in barrels is: {bv_rb} bbl\")"
      ]
    },
    {
      "cell_type": "markdown",
      "metadata": {
        "id": "8q3lMqBX6Q-r"
      },
      "source": [
        "4. The pore volume of the reservoir is the total volume available available to store fluids in the reservoir. It is the product of the bulk volume and porosity.<br>\n",
        "Write a Python code to compute the pore volume of the reservoir in acre-ft and in rb, and store these in the variables \"v_p_acreft\" and \"v_p_rb\" respectively. Print these two variables in one print statement<br>\n",
        "** 1 point will be deducted if answer is wrong, 2 points will be deducted if variables are not used in the calculation, 2 points will be deducted if the variables are not printed, and 10 points will be deducted if question is not attempted**"
      ]
    },
    {
      "cell_type": "code",
      "execution_count": 32,
      "metadata": {
        "id": "yOCexfgN6Q-r",
        "colab": {
          "base_uri": "https://localhost:8080/"
        },
        "outputId": "57e922ae-79af-4883-ec5a-206ea9cd7363"
      },
      "outputs": [
        {
          "output_type": "stream",
          "name": "stdout",
          "text": [
            "pore volume in acre-ft is 1250.0 and in bbl it is 9697500.0\n"
          ]
        }
      ],
      "source": [
        "v_p_acreft = bv_acreft*poro\n",
        "v_p_rb = bv_rb*poro\n",
        "print(f\"pore volume in acre-ft is {v_p_acreft} and in bbl it is {v_p_rb}\")"
      ]
    },
    {
      "cell_type": "markdown",
      "metadata": {
        "id": "xre-cyIY6Q-r"
      },
      "source": [
        "5. The hydrocarbon pore volume (HCPV) in units of rb is the product of the pore volume in rb and initial oil saturation (which is 1-$S_{wi}$, because the reservoir contains oil and water only). The HCPV is given as: <br>\n",
        "$HCPV = 7758 Ah\\phi(1-S_{wi})$ <br>\n",
        "Write a Python code that computes and stores the HCPV (in rb) in a variable called \"hcpv\". Print this variable <br>\n",
        "** 1 point will be deducted if answer is wrong, 2 points will be deducted if variables are not used in the calculation, 2 points will be deducted if the variable is not printed, and 10 points will be deducted if question is not attempted**"
      ]
    },
    {
      "cell_type": "code",
      "execution_count": 21,
      "metadata": {
        "id": "NSKBGK9L6Q-r",
        "colab": {
          "base_uri": "https://localhost:8080/"
        },
        "outputId": "e2f7639b-d526-4ba9-a167-c1e7b73afa28"
      },
      "outputs": [
        {
          "output_type": "stream",
          "name": "stdout",
          "text": [
            "the HCPV is: 6788250.0\n"
          ]
        }
      ],
      "source": [
        "hcpv = 7758*area*h*poro*(1-s_wi)\n",
        "print(f\"the HCPV is: {hcpv}\")"
      ]
    },
    {
      "cell_type": "markdown",
      "metadata": {
        "id": "aV_GdYhy6Q-r"
      },
      "source": [
        "6. Two other reservoirs (reservoir B and reservoir C) have identical parameters with the first reservoir (reservoir A) but with porosity values 0.25 and 0.3, respectively. <br>\n",
        "    * Write one line of Python code to assign these two porosity values to variables \"poro_B\" and \"poro_C\", respectively.\n",
        "    * Write a Python code to compute and print the STOIIP values of reservoirs B and C. Store these in variables \"stoiip_B\" and stoiip_C\", respectively.\n",
        "    * Write a Python code to compute and print the (arithmetic) mean of the STOIIPs of these 3 reservoirs.\n",
        "    * Write a print statement that uses the greater than operator to compare the STOIIP of reservoir B to that of reservoir C.<br> *Hint: print(STOIIP_B!=STOIIP_C) will test if STOIIP_B is not equal to STOIIP_C. This question asks you to test if STOIIP_B is greater than STOIIP_C.*\n",
        "    * Write a python code that adds 10% of the STOIIP of reservoir B to its original value, using the \"+=\" operator. Print out the result.\n",
        "    * Write a fast python code that updates the STOIIP of reservoir C to 90% of its original value. Print out the result.\n",
        "    \n",
        "    ** 1 point will be deducted for each wrong answer, 2 points will be deducted for every calculation that uses the numbers directly instead of the corresponding variables that hold these numbers, and 20 points will be deducted if this question is not attempted**"
      ]
    },
    {
      "cell_type": "code",
      "execution_count": 33,
      "metadata": {
        "id": "gyyV6DRZ6Q-r",
        "colab": {
          "base_uri": "https://localhost:8080/"
        },
        "outputId": "ca89efc0-1048-4424-ebf6-2033034118d9"
      },
      "outputs": [
        {
          "output_type": "stream",
          "name": "stdout",
          "text": [
            "False\n",
            "7467074.999999999\n",
            "6664827.272727272\n"
          ]
        }
      ],
      "source": [
        "poro_B, poro_C = .275, .3\n",
        "stoiip_B = ((7758*area*h*poro_B*(1-s_wi))/b_oi)\n",
        "stoiip_C = ((7758*area*h*poro_C*(1-s_wi))/b_oi)\n",
        "meanStoiip = (STOIIP + stoiip_B + stoiip_C)/3\n",
        "print(f\"{stoiip_B>stoiip_C}\")\n",
        "stoiip_B += .1*stoiip_B\n",
        "print(f\"{stoiip_B}\")\n",
        "stoiip_C -= .1*stoiip_C\n",
        "print(f\"{stoiip_C}\")"
      ]
    },
    {
      "cell_type": "code",
      "execution_count": null,
      "metadata": {
        "id": "psbvXWPC6Q-r"
      },
      "outputs": [],
      "source": []
    },
    {
      "cell_type": "code",
      "execution_count": null,
      "metadata": {
        "id": "stNXUpk36Q-s"
      },
      "outputs": [],
      "source": []
    }
  ],
  "metadata": {
    "colab": {
      "provenance": []
    },
    "kernelspec": {
      "display_name": "Python 3 (ipykernel)",
      "language": "python",
      "name": "python3"
    },
    "language_info": {
      "codemirror_mode": {
        "name": "ipython",
        "version": 3
      },
      "file_extension": ".py",
      "mimetype": "text/x-python",
      "name": "python",
      "nbconvert_exporter": "python",
      "pygments_lexer": "ipython3",
      "version": "3.9.12"
    }
  },
  "nbformat": 4,
  "nbformat_minor": 0
}